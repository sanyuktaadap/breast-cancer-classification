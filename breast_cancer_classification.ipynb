{
 "cells": [
  {
   "cell_type": "code",
   "execution_count": 5,
   "metadata": {},
   "outputs": [],
   "source": [
    "# Imports\n",
    "from data_utils import prepare_data, prep_pca_data\n",
    "from ml_utils import *"
   ]
  },
  {
   "attachments": {},
   "cell_type": "markdown",
   "metadata": {},
   "source": [
    "## Reading data\n",
    "\n",
    "Using prepare_data to read, cleanup, and normalize data. After processing, there are 455 training data points and 114 testing data points."
   ]
  },
  {
   "cell_type": "code",
   "execution_count": 2,
   "metadata": {},
   "outputs": [
    {
     "name": "stdout",
     "output_type": "stream",
     "text": [
      "(455, 30) (114, 30)\n"
     ]
    }
   ],
   "source": [
    "TRAIN_DATA_LOC = './data/training_data.csv'\n",
    "TEST_DATA_LOC = './data/testing_data.csv'\n",
    "\n",
    "orig_train_features, train_labels, orig_test_features, test_labels = prepare_data(TRAIN_DATA_LOC, \n",
    "                                                                        TEST_DATA_LOC)\n",
    "\n",
    "print(orig_train_features.shape, orig_test_features.shape)"
   ]
  },
  {
   "attachments": {},
   "cell_type": "markdown",
   "metadata": {},
   "source": [
    "## Training ML models with original 30 features"
   ]
  },
  {
   "cell_type": "code",
   "execution_count": 3,
   "metadata": {},
   "outputs": [
    {
     "name": "stdout",
     "output_type": "stream",
     "text": [
      "Logistic Regression:\n",
      "Train Metrics: Acc=0.9736263736263736, P=0.9820359281437125, R=0.9479768786127167\n",
      "Test Metrics: Acc=0.956140350877193, P=1.0, R=0.8717948717948718\n",
      "\n",
      "Decision Tree:\n",
      "Train Metrics: Acc=1.0, P=1.0, R=1.0\n",
      "Test Metrics: Acc=0.9210526315789473, P=0.9166666666666666, R=0.8461538461538461\n",
      "\n",
      "Random Forest:\n",
      "Train Metrics: Acc=1.0, P=1.0, R=1.0\n",
      "Test Metrics: Acc=0.9385964912280702, P=0.9210526315789473, R=0.8974358974358975\n",
      "\n",
      "SVM:\n",
      "Train Metrics: Acc=0.9846153846153847, P=0.9825581395348837, R=0.976878612716763\n",
      "Test Metrics: Acc=0.9736842105263158, P=1.0, R=0.9230769230769231\n",
      "\n",
      "KNN:\n",
      "Train Metrics: Acc=0.9846153846153847, P=0.9940476190476191, R=0.9653179190751445\n",
      "Test Metrics: Acc=0.9649122807017544, P=1.0, R=0.8974358974358975\n"
     ]
    }
   ],
   "source": [
    "train_features = orig_train_features\n",
    "test_features = orig_test_features\n",
    "\n",
    "lr_train_metrics, lr_test_metrics = classify_logistic_reg(train_features, \n",
    "                                                          train_labels, \n",
    "                                                          test_features, \n",
    "                                                          test_labels)\n",
    "\n",
    "dt_train_metrics, dt_test_metrics = classify_decision_tree(train_features, \n",
    "                                                           train_labels, \n",
    "                                                           test_features, \n",
    "                                                           test_labels)\n",
    "\n",
    "rf_train_metrics, rf_test_metrics = classify_random_forest(train_features, \n",
    "                                                           train_labels, \n",
    "                                                           test_features, \n",
    "                                                           test_labels)\n",
    "\n",
    "svm_train_metrics, svm_test_metrics = classify_svm(train_features, \n",
    "                                                   train_labels, \n",
    "                                                   test_features, \n",
    "                                                   test_labels)\n",
    "\n",
    "knn_train_metrics, knn_test_metrics = classify_knn(train_features, \n",
    "                                                   train_labels, \n",
    "                                                   test_features, \n",
    "                                                   test_labels)\n",
    "\n",
    "print(f'Logistic Regression:')\n",
    "print(f'Train Metrics: Acc={lr_train_metrics[0]}, P={lr_train_metrics[1]}, R={lr_train_metrics[2]}')\n",
    "print(f'Test Metrics: Acc={lr_test_metrics[0]}, P={lr_test_metrics[1]}, R={lr_test_metrics[2]}')\n",
    "\n",
    "print(f'\\nDecision Tree:')\n",
    "print(f'Train Metrics: Acc={dt_train_metrics[0]}, P={dt_train_metrics[1]}, R={dt_train_metrics[2]}')\n",
    "print(f'Test Metrics: Acc={dt_test_metrics[0]}, P={dt_test_metrics[1]}, R={dt_test_metrics[2]}')\n",
    "\n",
    "print(f'\\nRandom Forest:')\n",
    "print(f'Train Metrics: Acc={rf_train_metrics[0]}, P={rf_train_metrics[1]}, R={rf_train_metrics[2]}')\n",
    "print(f'Test Metrics: Acc={rf_test_metrics[0]}, P={rf_test_metrics[1]}, R={rf_test_metrics[2]}')\n",
    "\n",
    "print(f'\\nSVM:')\n",
    "print(f'Train Metrics: Acc={svm_train_metrics[0]}, P={svm_train_metrics[1]}, R={svm_train_metrics[2]}')\n",
    "print(f'Test Metrics: Acc={svm_test_metrics[0]}, P={svm_test_metrics[1]}, R={svm_test_metrics[2]}')\n",
    "\n",
    "print(f'\\nKNN:')\n",
    "print(f'Train Metrics: Acc={knn_train_metrics[0]}, P={knn_train_metrics[1]}, R={knn_train_metrics[2]}')\n",
    "print(f'Test Metrics: Acc={knn_test_metrics[0]}, P={knn_test_metrics[1]}, R={knn_test_metrics[2]}')"
   ]
  },
  {
   "attachments": {},
   "cell_type": "markdown",
   "metadata": {},
   "source": [
    "## Prepare PCA data"
   ]
  },
  {
   "cell_type": "code",
   "execution_count": 6,
   "metadata": {},
   "outputs": [],
   "source": [
    "pca_train_features, pca_test_features = prep_pca_data(train_features, test_features)\n"
   ]
  },
  {
   "attachments": {},
   "cell_type": "markdown",
   "metadata": {},
   "source": [
    "## Training ML models with PCA - Top 5 "
   ]
  },
  {
   "cell_type": "code",
   "execution_count": 7,
   "metadata": {},
   "outputs": [
    {
     "name": "stdout",
     "output_type": "stream",
     "text": [
      "Logistic Regression:\n",
      "Train Metrics: Acc=0.9692307692307692, P=0.9818181818181818, R=0.9364161849710982\n",
      "Test Metrics: Acc=0.956140350877193, P=1.0, R=0.8717948717948718\n",
      "\n",
      "Decision Tree:\n",
      "Train Metrics: Acc=1.0, P=1.0, R=1.0\n",
      "Test Metrics: Acc=0.8947368421052632, P=0.813953488372093, R=0.8974358974358975\n",
      "\n",
      "Random Forest:\n",
      "Train Metrics: Acc=1.0, P=1.0, R=1.0\n",
      "Test Metrics: Acc=0.9385964912280702, P=0.9210526315789473, R=0.8974358974358975\n",
      "\n",
      "SVM:\n",
      "Train Metrics: Acc=0.9802197802197802, P=0.9767441860465116, R=0.9710982658959537\n",
      "Test Metrics: Acc=0.9649122807017544, P=1.0, R=0.8974358974358975\n",
      "\n",
      "KNN:\n",
      "Train Metrics: Acc=0.9824175824175824, P=0.9881656804733728, R=0.9653179190751445\n",
      "Test Metrics: Acc=0.9473684210526315, P=0.9714285714285714, R=0.8717948717948718\n"
     ]
    }
   ],
   "source": [
    "train_features = pca_train_features[:, :5]\n",
    "test_features = pca_test_features[:, :5]\n",
    "\n",
    "lr_train_metrics, lr_test_metrics = classify_logistic_reg(train_features, \n",
    "                                                          train_labels, \n",
    "                                                          test_features, \n",
    "                                                          test_labels)\n",
    "\n",
    "dt_train_metrics, dt_test_metrics = classify_decision_tree(train_features, \n",
    "                                                           train_labels, \n",
    "                                                           test_features, \n",
    "                                                           test_labels)\n",
    "\n",
    "rf_train_metrics, rf_test_metrics = classify_random_forest(train_features, \n",
    "                                                           train_labels, \n",
    "                                                           test_features, \n",
    "                                                           test_labels)\n",
    "\n",
    "svm_train_metrics, svm_test_metrics = classify_svm(train_features, \n",
    "                                                   train_labels, \n",
    "                                                   test_features, \n",
    "                                                   test_labels)\n",
    "\n",
    "knn_train_metrics, knn_test_metrics = classify_knn(train_features, \n",
    "                                                   train_labels, \n",
    "                                                   test_features, \n",
    "                                                   test_labels)\n",
    "\n",
    "print(f'Logistic Regression:')\n",
    "print(f'Train Metrics: Acc={lr_train_metrics[0]}, P={lr_train_metrics[1]}, R={lr_train_metrics[2]}')\n",
    "print(f'Test Metrics: Acc={lr_test_metrics[0]}, P={lr_test_metrics[1]}, R={lr_test_metrics[2]}')\n",
    "\n",
    "print(f'\\nDecision Tree:')\n",
    "print(f'Train Metrics: Acc={dt_train_metrics[0]}, P={dt_train_metrics[1]}, R={dt_train_metrics[2]}')\n",
    "print(f'Test Metrics: Acc={dt_test_metrics[0]}, P={dt_test_metrics[1]}, R={dt_test_metrics[2]}')\n",
    "\n",
    "print(f'\\nRandom Forest:')\n",
    "print(f'Train Metrics: Acc={rf_train_metrics[0]}, P={rf_train_metrics[1]}, R={rf_train_metrics[2]}')\n",
    "print(f'Test Metrics: Acc={rf_test_metrics[0]}, P={rf_test_metrics[1]}, R={rf_test_metrics[2]}')\n",
    "\n",
    "print(f'\\nSVM:')\n",
    "print(f'Train Metrics: Acc={svm_train_metrics[0]}, P={svm_train_metrics[1]}, R={svm_train_metrics[2]}')\n",
    "print(f'Test Metrics: Acc={svm_test_metrics[0]}, P={svm_test_metrics[1]}, R={svm_test_metrics[2]}')\n",
    "\n",
    "print(f'\\nKNN:')\n",
    "print(f'Train Metrics: Acc={knn_train_metrics[0]}, P={knn_train_metrics[1]}, R={knn_train_metrics[2]}')\n",
    "print(f'Test Metrics: Acc={knn_test_metrics[0]}, P={knn_test_metrics[1]}, R={knn_test_metrics[2]}')"
   ]
  },
  {
   "attachments": {},
   "cell_type": "markdown",
   "metadata": {},
   "source": [
    "## Training ML models with PCA - Top 10 features"
   ]
  },
  {
   "cell_type": "code",
   "execution_count": 8,
   "metadata": {},
   "outputs": [
    {
     "name": "stdout",
     "output_type": "stream",
     "text": [
      "Logistic Regression:\n",
      "Train Metrics: Acc=0.9714285714285714, P=0.9878048780487805, R=0.9364161849710982\n",
      "Test Metrics: Acc=0.956140350877193, P=1.0, R=0.8717948717948718\n",
      "\n",
      "Decision Tree:\n",
      "Train Metrics: Acc=1.0, P=1.0, R=1.0\n",
      "Test Metrics: Acc=0.8947368421052632, P=0.813953488372093, R=0.8974358974358975\n",
      "\n",
      "Random Forest:\n",
      "Train Metrics: Acc=1.0, P=1.0, R=1.0\n",
      "Test Metrics: Acc=0.9210526315789473, P=0.8947368421052632, R=0.8717948717948718\n",
      "\n",
      "SVM:\n",
      "Train Metrics: Acc=0.9846153846153847, P=0.9825581395348837, R=0.976878612716763\n",
      "Test Metrics: Acc=0.9649122807017544, P=1.0, R=0.8974358974358975\n",
      "\n",
      "KNN:\n",
      "Train Metrics: Acc=0.9868131868131869, P=0.9940828402366864, R=0.9710982658959537\n",
      "Test Metrics: Acc=0.956140350877193, P=1.0, R=0.8717948717948718\n"
     ]
    }
   ],
   "source": [
    "train_features = pca_train_features[:, :10]\n",
    "test_features = pca_test_features[:, :10]\n",
    "\n",
    "lr_train_metrics, lr_test_metrics = classify_logistic_reg(train_features, \n",
    "                                                          train_labels, \n",
    "                                                          test_features, \n",
    "                                                          test_labels)\n",
    "\n",
    "dt_train_metrics, dt_test_metrics = classify_decision_tree(train_features, \n",
    "                                                           train_labels, \n",
    "                                                           test_features, \n",
    "                                                           test_labels)\n",
    "\n",
    "rf_train_metrics, rf_test_metrics = classify_random_forest(train_features, \n",
    "                                                           train_labels, \n",
    "                                                           test_features, \n",
    "                                                           test_labels)\n",
    "\n",
    "svm_train_metrics, svm_test_metrics = classify_svm(train_features, \n",
    "                                                   train_labels, \n",
    "                                                   test_features, \n",
    "                                                   test_labels)\n",
    "\n",
    "knn_train_metrics, knn_test_metrics = classify_knn(train_features, \n",
    "                                                   train_labels, \n",
    "                                                   test_features, \n",
    "                                                   test_labels)\n",
    "\n",
    "print(f'Logistic Regression:')\n",
    "print(f'Train Metrics: Acc={lr_train_metrics[0]}, P={lr_train_metrics[1]}, R={lr_train_metrics[2]}')\n",
    "print(f'Test Metrics: Acc={lr_test_metrics[0]}, P={lr_test_metrics[1]}, R={lr_test_metrics[2]}')\n",
    "\n",
    "print(f'\\nDecision Tree:')\n",
    "print(f'Train Metrics: Acc={dt_train_metrics[0]}, P={dt_train_metrics[1]}, R={dt_train_metrics[2]}')\n",
    "print(f'Test Metrics: Acc={dt_test_metrics[0]}, P={dt_test_metrics[1]}, R={dt_test_metrics[2]}')\n",
    "\n",
    "print(f'\\nRandom Forest:')\n",
    "print(f'Train Metrics: Acc={rf_train_metrics[0]}, P={rf_train_metrics[1]}, R={rf_train_metrics[2]}')\n",
    "print(f'Test Metrics: Acc={rf_test_metrics[0]}, P={rf_test_metrics[1]}, R={rf_test_metrics[2]}')\n",
    "\n",
    "print(f'\\nSVM:')\n",
    "print(f'Train Metrics: Acc={svm_train_metrics[0]}, P={svm_train_metrics[1]}, R={svm_train_metrics[2]}')\n",
    "print(f'Test Metrics: Acc={svm_test_metrics[0]}, P={svm_test_metrics[1]}, R={svm_test_metrics[2]}')\n",
    "\n",
    "print(f'\\nKNN:')\n",
    "print(f'Train Metrics: Acc={knn_train_metrics[0]}, P={knn_train_metrics[1]}, R={knn_train_metrics[2]}')\n",
    "print(f'Test Metrics: Acc={knn_test_metrics[0]}, P={knn_test_metrics[1]}, R={knn_test_metrics[2]}')"
   ]
  },
  {
   "attachments": {},
   "cell_type": "markdown",
   "metadata": {},
   "source": [
    "## Training ML models with PCA - Top 15 features"
   ]
  },
  {
   "cell_type": "code",
   "execution_count": 9,
   "metadata": {},
   "outputs": [
    {
     "name": "stdout",
     "output_type": "stream",
     "text": [
      "Logistic Regression:\n",
      "Train Metrics: Acc=0.9714285714285714, P=0.9819277108433735, R=0.9421965317919075\n",
      "Test Metrics: Acc=0.956140350877193, P=1.0, R=0.8717948717948718\n",
      "\n",
      "Decision Tree:\n",
      "Train Metrics: Acc=1.0, P=1.0, R=1.0\n",
      "Test Metrics: Acc=0.8859649122807017, P=0.8095238095238095, R=0.8717948717948718\n",
      "\n",
      "Random Forest:\n",
      "Train Metrics: Acc=1.0, P=1.0, R=1.0\n",
      "Test Metrics: Acc=0.9035087719298246, P=0.8333333333333334, R=0.8974358974358975\n",
      "\n",
      "SVM:\n",
      "Train Metrics: Acc=0.9868131868131869, P=0.9883040935672515, R=0.976878612716763\n",
      "Test Metrics: Acc=0.9649122807017544, P=1.0, R=0.8974358974358975\n",
      "\n",
      "KNN:\n",
      "Train Metrics: Acc=0.9846153846153847, P=0.9940476190476191, R=0.9653179190751445\n",
      "Test Metrics: Acc=0.9649122807017544, P=1.0, R=0.8974358974358975\n"
     ]
    }
   ],
   "source": [
    "train_features = pca_train_features[:, :15]\n",
    "test_features = pca_test_features[:, :15]\n",
    "\n",
    "lr_train_metrics, lr_test_metrics = classify_logistic_reg(train_features, \n",
    "                                                          train_labels, \n",
    "                                                          test_features, \n",
    "                                                          test_labels)\n",
    "\n",
    "dt_train_metrics, dt_test_metrics = classify_decision_tree(train_features, \n",
    "                                                           train_labels, \n",
    "                                                           test_features, \n",
    "                                                           test_labels)\n",
    "\n",
    "rf_train_metrics, rf_test_metrics = classify_random_forest(train_features, \n",
    "                                                           train_labels, \n",
    "                                                           test_features, \n",
    "                                                           test_labels)\n",
    "\n",
    "svm_train_metrics, svm_test_metrics = classify_svm(train_features, \n",
    "                                                   train_labels, \n",
    "                                                   test_features, \n",
    "                                                   test_labels)\n",
    "\n",
    "knn_train_metrics, knn_test_metrics = classify_knn(train_features, \n",
    "                                                   train_labels, \n",
    "                                                   test_features, \n",
    "                                                   test_labels)\n",
    "\n",
    "print(f'Logistic Regression:')\n",
    "print(f'Train Metrics: Acc={lr_train_metrics[0]}, P={lr_train_metrics[1]}, R={lr_train_metrics[2]}')\n",
    "print(f'Test Metrics: Acc={lr_test_metrics[0]}, P={lr_test_metrics[1]}, R={lr_test_metrics[2]}')\n",
    "\n",
    "print(f'\\nDecision Tree:')\n",
    "print(f'Train Metrics: Acc={dt_train_metrics[0]}, P={dt_train_metrics[1]}, R={dt_train_metrics[2]}')\n",
    "print(f'Test Metrics: Acc={dt_test_metrics[0]}, P={dt_test_metrics[1]}, R={dt_test_metrics[2]}')\n",
    "\n",
    "print(f'\\nRandom Forest:')\n",
    "print(f'Train Metrics: Acc={rf_train_metrics[0]}, P={rf_train_metrics[1]}, R={rf_train_metrics[2]}')\n",
    "print(f'Test Metrics: Acc={rf_test_metrics[0]}, P={rf_test_metrics[1]}, R={rf_test_metrics[2]}')\n",
    "\n",
    "print(f'\\nSVM:')\n",
    "print(f'Train Metrics: Acc={svm_train_metrics[0]}, P={svm_train_metrics[1]}, R={svm_train_metrics[2]}')\n",
    "print(f'Test Metrics: Acc={svm_test_metrics[0]}, P={svm_test_metrics[1]}, R={svm_test_metrics[2]}')\n",
    "\n",
    "print(f'\\nKNN:')\n",
    "print(f'Train Metrics: Acc={knn_train_metrics[0]}, P={knn_train_metrics[1]}, R={knn_train_metrics[2]}')\n",
    "print(f'Test Metrics: Acc={knn_test_metrics[0]}, P={knn_test_metrics[1]}, R={knn_test_metrics[2]}')"
   ]
  },
  {
   "attachments": {},
   "cell_type": "markdown",
   "metadata": {},
   "source": [
    "## Training ML models with PCA - Top 20 features"
   ]
  },
  {
   "cell_type": "code",
   "execution_count": 13,
   "metadata": {},
   "outputs": [
    {
     "name": "stdout",
     "output_type": "stream",
     "text": [
      "Logistic Regression:\n",
      "Train Metrics: Acc=0.9736263736263736, P=0.9820359281437125, R=0.9479768786127167\n",
      "Test Metrics: Acc=0.956140350877193, P=1.0, R=0.8717948717948718\n",
      "\n",
      "Decision Tree:\n",
      "Train Metrics: Acc=1.0, P=1.0, R=1.0\n",
      "Test Metrics: Acc=0.9035087719298246, P=0.8333333333333334, R=0.8974358974358975\n",
      "\n",
      "Random Forest:\n",
      "Train Metrics: Acc=1.0, P=1.0, R=1.0\n",
      "Test Metrics: Acc=0.9035087719298246, P=0.8333333333333334, R=0.8974358974358975\n",
      "\n",
      "SVM:\n",
      "Train Metrics: Acc=0.9868131868131869, P=0.9883040935672515, R=0.976878612716763\n",
      "Test Metrics: Acc=0.9649122807017544, P=1.0, R=0.8974358974358975\n",
      "\n",
      "KNN:\n",
      "Train Metrics: Acc=0.9846153846153847, P=0.9940476190476191, R=0.9653179190751445\n",
      "Test Metrics: Acc=0.9649122807017544, P=1.0, R=0.8974358974358975\n"
     ]
    }
   ],
   "source": [
    "train_features = pca_train_features[:, :20]\n",
    "test_features = pca_test_features[:, :20]\n",
    "\n",
    "lr_train_metrics, lr_test_metrics = classify_logistic_reg(train_features, \n",
    "                                                          train_labels, \n",
    "                                                          test_features, \n",
    "                                                          test_labels)\n",
    "\n",
    "dt_train_metrics, dt_test_metrics = classify_decision_tree(train_features, \n",
    "                                                           train_labels, \n",
    "                                                           test_features, \n",
    "                                                           test_labels)\n",
    "\n",
    "rf_train_metrics, rf_test_metrics = classify_random_forest(train_features, \n",
    "                                                           train_labels, \n",
    "                                                           test_features, \n",
    "                                                           test_labels)\n",
    "\n",
    "svm_train_metrics, svm_test_metrics = classify_svm(train_features, \n",
    "                                                   train_labels, \n",
    "                                                   test_features, \n",
    "                                                   test_labels)\n",
    "\n",
    "knn_train_metrics, knn_test_metrics = classify_knn(train_features, \n",
    "                                                   train_labels, \n",
    "                                                   test_features, \n",
    "                                                   test_labels)\n",
    "\n",
    "print(f'Logistic Regression:')\n",
    "print(f'Train Metrics: Acc={lr_train_metrics[0]}, P={lr_train_metrics[1]}, R={lr_train_metrics[2]}')\n",
    "print(f'Test Metrics: Acc={lr_test_metrics[0]}, P={lr_test_metrics[1]}, R={lr_test_metrics[2]}')\n",
    "\n",
    "print(f'\\nDecision Tree:')\n",
    "print(f'Train Metrics: Acc={dt_train_metrics[0]}, P={dt_train_metrics[1]}, R={dt_train_metrics[2]}')\n",
    "print(f'Test Metrics: Acc={dt_test_metrics[0]}, P={dt_test_metrics[1]}, R={dt_test_metrics[2]}')\n",
    "\n",
    "print(f'\\nRandom Forest:')\n",
    "print(f'Train Metrics: Acc={rf_train_metrics[0]}, P={rf_train_metrics[1]}, R={rf_train_metrics[2]}')\n",
    "print(f'Test Metrics: Acc={rf_test_metrics[0]}, P={rf_test_metrics[1]}, R={rf_test_metrics[2]}')\n",
    "\n",
    "print(f'\\nSVM:')\n",
    "print(f'Train Metrics: Acc={svm_train_metrics[0]}, P={svm_train_metrics[1]}, R={svm_train_metrics[2]}')\n",
    "print(f'Test Metrics: Acc={svm_test_metrics[0]}, P={svm_test_metrics[1]}, R={svm_test_metrics[2]}')\n",
    "\n",
    "print(f'\\nKNN:')\n",
    "print(f'Train Metrics: Acc={knn_train_metrics[0]}, P={knn_train_metrics[1]}, R={knn_train_metrics[2]}')\n",
    "print(f'Test Metrics: Acc={knn_test_metrics[0]}, P={knn_test_metrics[1]}, R={knn_test_metrics[2]}')"
   ]
  },
  {
   "cell_type": "code",
   "execution_count": null,
   "metadata": {},
   "outputs": [],
   "source": []
  }
 ],
 "metadata": {
  "kernelspec": {
   "display_name": "base",
   "language": "python",
   "name": "python3"
  },
  "language_info": {
   "codemirror_mode": {
    "name": "ipython",
    "version": 3
   },
   "file_extension": ".py",
   "mimetype": "text/x-python",
   "name": "python",
   "nbconvert_exporter": "python",
   "pygments_lexer": "ipython3",
   "version": "3.9.12"
  },
  "orig_nbformat": 4
 },
 "nbformat": 4,
 "nbformat_minor": 2
}
